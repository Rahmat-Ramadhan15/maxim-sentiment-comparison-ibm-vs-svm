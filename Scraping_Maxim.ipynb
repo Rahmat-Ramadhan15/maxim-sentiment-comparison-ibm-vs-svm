{
  "nbformat": 4,
  "nbformat_minor": 0,
  "metadata": {
    "colab": {
      "provenance": []
    },
    "kernelspec": {
      "name": "python3",
      "display_name": "Python 3"
    },
    "language_info": {
      "name": "python"
    }
  },
  "cells": [
    {
      "cell_type": "markdown",
      "source": [
        "#**Import Library**"
      ],
      "metadata": {
        "id": "xGlDBsLa7FsL"
      }
    },
    {
      "cell_type": "code",
      "execution_count": 1,
      "metadata": {
        "colab": {
          "base_uri": "https://localhost:8080/"
        },
        "id": "kkm06svXxUew",
        "outputId": "dcc3d705-204c-4036-f978-cf972f98ffb7"
      },
      "outputs": [
        {
          "output_type": "stream",
          "name": "stdout",
          "text": [
            "Collecting google-play-scraper\n",
            "  Downloading google_play_scraper-1.2.7-py3-none-any.whl.metadata (50 kB)\n",
            "\u001b[?25l     \u001b[90m━━━━━━━━━━━━━━━━━━━━━━━━━━━━━━━━━━━━━━━━\u001b[0m \u001b[32m0.0/50.2 kB\u001b[0m \u001b[31m?\u001b[0m eta \u001b[36m-:--:--\u001b[0m\r\u001b[2K     \u001b[90m━━━━━━━━━━━━━━━━━━━━━━━━━━━━━━━━━━━━━━━━\u001b[0m \u001b[32m50.2/50.2 kB\u001b[0m \u001b[31m2.0 MB/s\u001b[0m eta \u001b[36m0:00:00\u001b[0m\n",
            "\u001b[?25hDownloading google_play_scraper-1.2.7-py3-none-any.whl (28 kB)\n",
            "Installing collected packages: google-play-scraper\n",
            "Successfully installed google-play-scraper-1.2.7\n"
          ]
        }
      ],
      "source": [
        "!pip install google-play-scraper"
      ]
    },
    {
      "cell_type": "code",
      "source": [
        "# Mengimpor pustaka google_play_scraper untuk mengakses ulasan dan informasi aplikasi dari Google Play Store.\n",
        "from google_play_scraper import app, reviews, Sort, reviews_all"
      ],
      "metadata": {
        "id": "2QHchgxhxYbM"
      },
      "execution_count": 2,
      "outputs": []
    },
    {
      "cell_type": "markdown",
      "source": [
        "#**Scraping Dataset**"
      ],
      "metadata": {
        "id": "DRQuscro7aTJ"
      }
    },
    {
      "cell_type": "markdown",
      "source": [
        "Pada proyek ini, pada proyek ini saya melakukan analisis sentimen terhadap ulasan dan pendapat pengguna terkait aplikasi \"Maxim\" di Play Store. Analisis sentimen akan membantu kita untuk memahami bagaimana pengguna merasakan dan mengungkapkan pandangan mereka terhadap aplikasi ini.\n",
        "\n",
        "Dengan menggunakan berbagai teknik pemrosesan teks dan algoritma machine learning, kita akan mencoba mengidentifikasi apakah ulasan pengguna terhadap aplikasi \"Maxim\" cenderung positif, negatif, atau netral. Hasil analisis sentimen ini dapat memberikan wawasan berharga kepada pengembang aplikasi untuk meningkatkan pengalaman pengguna. Mari kita mulai menjelajahi ulasan pengguna dan menganalisis sentimen di sekitar aplikasi \"Mobile Legends: Bang Bang\" dengan lebih mendalam."
      ],
      "metadata": {
        "id": "8Gx0LL2P7fDP"
      }
    },
    {
      "cell_type": "code",
      "source": [
        "scrapreview = reviews(\n",
        "    'com.taxsee.taxsee',\n",
        "    lang='id',\n",
        "    country='id',\n",
        "    sort=Sort.NEWEST,\n",
        "    count = 20000,\n",
        ")"
      ],
      "metadata": {
        "id": "IiLV9bYPxcrI"
      },
      "execution_count": 3,
      "outputs": []
    },
    {
      "cell_type": "code",
      "source": [
        "import pandas as pd\n",
        "\n",
        "scraping = scrapreview[0]\n",
        "app_reviews = pd.DataFrame(scraping)  # Pastikan 'scraping' adalah list of dict\n",
        "app_reviews.to_csv('maxim_reviews.csv', index=False, encoding='utf-8')"
      ],
      "metadata": {
        "id": "IKAU4C2nzEqx"
      },
      "execution_count": 4,
      "outputs": []
    }
  ]
}